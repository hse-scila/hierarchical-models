{
 "cells": [
  {
   "cell_type": "code",
   "execution_count": 5,
   "metadata": {},
   "outputs": [
    {
     "name": "stdout",
     "output_type": "stream",
     "text": [
      "Size of data (25449, 47)\n",
      "['Words', 'T1_lev1', 'T2_lev1', 'T3_lev1', 'T4_lev1', 'T5_lev1', 'T6_lev1', 'T7_lev1', 'T8_lev1', 'T9_lev1', 'T10_lev1', 'T1_lev2', 'T2_lev2', 'T3_lev2', 'T4_lev2', 'T5_lev2', 'T6_lev2', 'T7_lev2', 'T8_lev2', 'T9_lev2', 'T10_lev2', 'T11_lev2', 'T12_lev2', 'T13_lev2', 'T14_lev2', 'T15_lev2', 'T16_lev2', 'T17_lev2', 'T18_lev2', 'T19_lev2', 'T20_lev2', 'T21_lev2', 'T22_lev2', 'T23_lev2', 'T24_lev2', 'T25_lev2', 'T26_lev2', 'T27_lev2', 'T28_lev2', 'T29_lev2', 'T30_lev2', 'T32_lev2', 'T33_lev2', 'T34_lev2', 'T35_lev2', 'T36_lev2', 'T37_lev2']\n"
     ]
    }
   ],
   "source": [
    "import numpy as np\n",
    "import pandas as pd\n",
    "# reading data (matrix phi)\n",
    "#f = 'G:/q_invariant/HLDA_HPAM_Article/additional_simulation/BigARTM_20topicsnew/phi_14_1level_lem2_22222_clear.csv'\n",
    "f = 'G:/q_invariant/HLDA_HPAM_Article/additional_simulation/BigARTM_WOS_balansed/phi_WoS11967_lem_2_10_36_clear.csv'\n",
    "\n",
    "df = pd.read_csv(f, delimiter=';', encoding='UTF')\n",
    "print('Size of data', df.shape)\n",
    "print(list(df))"
   ]
  },
  {
   "cell_type": "code",
   "execution_count": 2,
   "metadata": {},
   "outputs": [
    {
     "data": {
      "text/plain": [
       "47"
      ]
     },
     "execution_count": 2,
     "metadata": {},
     "output_type": "execute_result"
    }
   ],
   "source": [
    "df.head(5)\n",
    "df.shape[1]"
   ]
  },
  {
   "cell_type": "code",
   "execution_count": 6,
   "metadata": {},
   "outputs": [
    {
     "name": "stdout",
     "output_type": "stream",
     "text": [
      "Words\n",
      "['zzph', 'zygomaticus', 'zygomat', 'zygo', 'zwik', 'zwaan', 'zurich', 'zubud', 'zoonot', 'zoom', 'zone', 'zonat', 'zonal', 'zona', 'zoea', 'zirconium', 'zirconia', 'zinc', 'zimmerman', 'zikv', 'zika', 'zigzag', 'zhou', 'zhong', 'zhang', 'zfev', 'zeus', 'zeta', 'zest', 'zero', 'zernik', 'zepto', 'zeolit', 'zenith', 'zener', 'zeil', 'zebrafish', 'zealand', 'zcwpw', 'zbtb', 'zadeh', 'zabo', 'ywll', 'yushu', 'yunqu', 'yuba', 'yuan', 'ypel', 'youtub', 'youth']\n",
      "T1_lev1\n",
      "['gradual', 'boost', 'readili', 'crosslink', 'thaw', 'regardless', '6628', 'pharmacodynam', 'minim', 'distress', 'maxim', 'airway', 'carotid', 'issu', 'squamous', 'themselv', 'teen', 'drosophila', 'adren', 'afflict', 'stockpil', 'fission', 'coconut', 'paramount', 'reapprai', 'schwann', 'govadin', 'lidocain', 'cycla', 'proanthocyanidin', 'glycogen', 'subfield', 'mitogen', 'incrna', 'catabol', 'adenocarcinoma', 'egfp', 'tacrin', 'calpain', 'glutamina', 'oxpho', 'nefa', 'htra', 'gfap', 'taxifolin', 'vasculatur', 'amyloidosi', 'prpc', 'selegilin', 'xfad']\n",
      "T2_lev1\n",
      "['mixtur', 'wooden', 'action', 'chile', 'estuarin', 'anoth', 'physiochem', 'palm', 'notabl', 'southeastern', 'spar', 'unsuit', 'broad', 'intensifi', 'destabil', 'germ', 'interrel', 'exploit', 'overcom', 'golden', 'nevertheless', 'widespread', 'cova', 'tabl', 'kenya', 'notwithstand', 'obstruct', 'introduc', 'predomin', 'unfea', 'emit', 'younger', 'assert', 'bottom', 'minimi', 'microsc', 'lysimet', 'bioret', 'geochem', 'macroinvertebr', 'astm', 'resprout', 'irwh', 'geospati', 'kept', 'rever', 'closur', 'extend', 'organochlorin', 'advantag']\n",
      "T3_lev1\n",
      "['aitl', 'attenu', 'polish', 'potenc', 'sibl', 'drastic', 'bioindic', 'oprm', 'anticanc', 'sire', 'rout', 'pinus', 'candida', 'perturb', 'coalesc', 'exact', 'corrobor', 'reconcil', 'organel', 'microfluid', 'ongo', 'glycoprotein', 'press', 'aldh', 'lifecycl', 'ubiquit', 'cutan', 'dark', 'speciat', 'actinobacteria', 'neighborhood', 'septemb', 'ldlr', 'repres', 'note', 'homogen', 'exot', 'experienc', 'routin', 'center', 'bacteriolog', 'denatur', 'australian', 'subcellular', 'eber', 'beck', '1996', 'repetit', 'articul', 'fret']\n",
      "T4_lev1\n",
      "['gaseous', 'trim', '11085', 'pocket', 'unansw', 'correct', 'coverag', 'aster', 'retain', 'watson', 'triad', 'hinder', 'inhomogen', 'extrapol', 'brui', 'turbin', 'document', 'portabl', 'subtili', 'absenc', 'factori', 'mayb', 'cumul', 'leav', 'relativist', 'suppo', 'manno', 'inexpen', 'occa', 'ammonia', 'preci', 'mammalian', 'begin', 'homo', 'take', 'link', 'peroxida', 'retreat', 'kilometr', 'impur', 'utmost', 'aetiolog', 'conform', 'cheaper', 'heterogen', 'portland', 'bidirect', 'amongst', 'blast', 'elabor']\n",
      "T5_lev1\n",
      "['exagg', 'pleasant', 'continuum', 'wealth', 'lgbtq', 'full', 'preliminari', 'formul', 'accumul', 'unidentifi', 'permiss', 'phenomena', 'portray', 'submiss', 'worsen', 'manageri', 'placebo', 'advocaci', 'minus', 'obvious', 'commiss', 'rocket', 'scrambl', 'prize', 'divert', 'basketb', 'area', 'failur', 'trivial', 'discour', 'hereaft', 'elementari', 'caudal', 'desk', 'empti', 'intersect', 'routin', 'rape', 'supplementari', 'sake', 'diminish', 'causat', 'hierarchi', 'unsolv', 'door', 'unnecessari', 'avail', 'prompt', 'ordinarili', 'guard']\n",
      "T6_lev1\n",
      "['nocicept', 'comput', 'bleed', 'causal', 'night', 'rule', 'seventi', 'acetabular', 'programm', 'tast', 'merck', 'quicker', 'fall', 'shop', 'albin', 'prodrom', 'undetect', 'christian', 'eleven', 'notabl', 'pace', 'fluent', 'true', 'neuropatholog', 'hemorrhag', 'satisfactori', 'begin', 'malform', 'mncds', 'schizophrenia', 'acyl', 'diurnal', 'wheat', 'protect', 'stabil', 'immin', 'injur', 'besid', 'classic', 'superfici', 'parkinson', 'pairwi', 'insuffici', 'rever', 'biomechan', 'acuiti', 'pgsn', 'pertussi', 'lcis', 'lozeng']\n",
      "T7_lev1\n",
      "['lingual', 'trough', 'blank', 'deduc', 'longer', 'mimic', 'stagnant', 'licen', 'taper', 'nanowir', 'spill', 'spacer', 'isol', 'stagnat', 'nineteen', 'bottleneck', 'emit', 'fuse', 'evid', 'hydro', 'therebi', 'austria', 'gaug', 'varieti', 'intersect', '8530', 'random', 'tester', 'realli', 'anchorag', 'raindrop', 'aquif', 'topographi', 'corner', 'stir', 'slower', 'matrix', 'vicin', 'dredg', 'russia', 'soccer', 'took', 'anolyt', 'brittl', 'orthodont', 'silan', 'trapezoid', 'subcrit', 'dentur', 'loca']\n",
      "T8_lev1\n",
      "['correl', 'pacemak', '11624', 'supplier', 'penetr', 'inhabit', 'baselin', 'prece', 'gossip', 'socialbot', 'eavesdrop', 'tangibl', 'memif', 'snort', 'hazard', 'basketb', 'errat', 'ingress', 'heritag', 'spam', 'master', 'apart', 'pound', 'ration', 'chart', 'ceil', 'multifacet', 'immedi', 'spirit', 'homo', 'piec', 'tactic', 'possibilist', 'opportun', 'declar', 'xilinx', 'straightforward', 'readili', 'grasp', 'inexpen', 'volatil', 'threaten', 'speed', 'remov', 'belgium', 'accommod', 'ineffici', 'visibl', 'though', 'essenc']\n",
      "T9_lev1\n",
      "['shis', 'instead', 'teen', 'hypoth', 'prompt', 'permit', 'percent', 'alongsid', 'spectrum', 'broaden', 'energet', 'anxiolyt', 'stereotypi', 'roadmap', 'practi', 'steadili', 'uniform', 'central', 'trust', 'unmet', 'pros', 'exemplifi', 'arous', 'measur', 'video', 'yard', 'weak', 'durat', 'viewpoint', 'holi', 'googl', 'later', 'telecar', 'bureau', 'southwest', 'overrid', 'sentenc', 'thrust', 'conceiv', 'norwegian', 'bibliometr', 'emdr', 'workforc', 'possess', 'retain', 'dropout', 'pertin', 'unreason', 'scheff', 'catch']\n",
      "T10_lev1\n",
      "['agreement', 'eavesdropp', 'serv', 'impract', 'interconnect', 'photograph', 'wait', 'discontinu', 'withstand', 'pairwi', 'granul', 'recov', 'beam', 'hide', 'centimet', 'harri', 'sent', 'inset', 'throw', 'unbound', 'solenoid', 'airplan', 'yoke', 'prerequisit', 'immer', 'skew', 'superconduct', 'doubli', 'permit', 'learnt', 'insid', 'lithium', 'truck', 'tracker', 'cyclic', 'conquer', 'highest', 'cardin', 'figur', 'euler', 'electromechan', 'strang', 'finer', 'microscop', 'circuitri', 'gibb', 'intra', 'bright', 'hitherto', 'spurious']\n",
      "T1_lev2\n",
      "['polar', 'gastrointestin', 'unaccept', 'cough', 'distinguish', 'base', 'remark', 'dival', 'qualit', 'pack', 'close', 'receiv', 'recipi', 'illumin', 'enterocyt', 'ternari', 'retinoid', 'niger', 'entranc', 'regard', 'foren', 'quinon', 'facilit', 'degrad', 'pilot', 'fresh', 'exemplifi', 'thousand', 'smaller', 'perhap', 'make', 'avoid', 'made', 'window', 'parallel', 'plastic', 'scan', 'prefer', 'throughout', 'deltamethrin', 'bare', 'subtract', 'immunostimul', 'hous', 'discov', 'purif', 'certain', 'dinucleotid', 'intragastr', '8491']\n",
      "T2_lev2\n",
      "['reconnaiss', 'estuarin', 'appear', 'urgent', 'introduc', 'stagnant', 'offici', 'autom', 'dipol', 'florida', 'berlin', 'model', 'presum', 'abund', 'hangzhou', 'interspeci', 'discontinu', 'digiti', 'graze', 'alberta', 'sometim', 'floor', 'monoton', 'ortho', 'impli', 'colder', 'remain', 'tongu', 'intercept', 'evidenti', 'link', 'aeronaut', 'seab', 'suit', 'lookup', 'late', 'profit', 'uniform', 'heritag', 'broader', 'multisourc', 'individu', 'comprehen', 'uninterrupt', 'baselin', 'artifact', 'notic', 'featur', 'conduct', 'territori']\n",
      "T3_lev2\n",
      "['email', 'delhi', 'romanian', 'elig', 'clear', 'preserv', 'gradual', 'abus', 'alongsid', 'explanatori', 'fashion', 'strict', 'exemplifi', 'imparti', 'itali', 'sweden', 'transform', 'uncommon', 'inten', 'intend', 'convinc', 'divi', 'verbatim', 'exacerb', 'legisl', 'strive', 'deter', 'popular', 'grew', 'format', 'marketplac', 'biograph', 'manner', 'ideal', 'avenu', 'fifti', 'book', 'begin', 'congress', 'surround', 'remark', 'shelter', 'cohe', 'repli', 'centr', 'stratif', 'dissimilar', 'disput', 'occurr', 'sent']\n",
      "T4_lev2\n",
      "['accur', 'lost', 'evolv', 'perturb', 'complaint', 'patch', 'brown', 'taken', 'strongest', 'appendag', 'vital', 'zealand', 'nevertheless', 'strengthen', 'origin', 'safe', 'tortuo', 'take', 'coordin', 'suspicion', 'asymmetr', 'quantif', 'allograft', 'offici', 'themselv', 'corrobor', 'proof', 'brazilian', 'fluent', 'analyz', 'percent', 'anali', 'immunosuppress', 'expedit', '9810', 'light', 'emphysema', 'nfts', 'indistinguish', 'england', 'domain', 'undertaken', 'labour', 'mainland', 'unresolv', 'insight', 'mood', 'pittsburgh', '8479', 'undesir']\n",
      "T5_lev2\n",
      "['advent', 'render', 'least', 'visibl', 'offlin', 'penetr', 'multitask', 'batch', 'bayesian', 'press', 'snapshot', 'tablet', 'homogen', 'practic', 'stop', 'coupl', 'quicker', 'reject', 'offen', 'resolv', 'structur', 'design', 'mandatori', 'distinct', 'probabilist', 'contrari', 'reflector', 'multius', 'sketch', 'allevi', 'sound', 'made', 'malfunct', 'inher', 'shield', 'proof', 'prior', 'periph', 'exit', 'rethink', 'harden', 'inva', 'garbag', 'artifact', 'pseudo', 'chart', 'awaken', 'drastic', 'disjoint', 'nonetheless']\n",
      "T6_lev2\n"
     ]
    },
    {
     "name": "stdout",
     "output_type": "stream",
     "text": [
      "['movi', 'discoveri', 'disadvantag', 'remedi', 'stand', 'microblog', 'basca', 'hevc', 'tcam', 'hopcncc', 'gepsvm', 'libflasm', 'post', 'ksrc', 'lstm', 'daubechi', 'semisupervi', 'jpeg', 'grayscal', 'throughput', 'weber', 'retrain', 'stepwi', 'prohibit', 'whiten', 'king', 'craft', 'otherwi', 'ceil', 'celebr', 'alon', 'return', 'unbalanc', 'promin', 'fragil', 'abnorm', 'larger', 'conquer', 'erron', 'carv', 'spatiotempor', 'multitempor', 'reach', 'possibl', 'hough', 'appropri', 'lasso', 'wang', 'road', 'exud']\n",
      "T7_lev2\n",
      "['bottom', 'feder', 'inexpen', 'crown', 'scope', 'detent', 'cook', 'newli', 'pollut', 'hilli', 'exclus', 'specifi', 'decid', 'predomin', 'spanish', 'globe', 'biggest', 'tight', 'accomplish', 'attent', 'amplifi', 'bound', 'desir', 'robust', 'amongst', 'octob', 'ambigu', 'shorter', 'dure', 'secondari', 'street', 'incent', 'inflow', 'citrus', 'heavili', 'easili', 'reliev', 'demograph', 'procedur', 'unexpect', 'strict', 'attract', 'ration', 'concept', 'unlik', 'agro', 'light', 'tabul', 'worsen', 'intend']\n",
      "T8_lev2\n",
      "['insight', 'intol', 'civic', 'autonomi', 'diminish', 'discomfort', 'requir', 'placement', 'pakistan', 'regul', 'kasr', 'eject', 'escap', 'fetal', 'varieti', 'egocentr', 'symptomatolog', 'spain', 'epilepsi', 'upper', 'expiratori', 'either', 'rural', 'match', 'detoxif', '4081', 'febril', 'prematur', 'warmth', 'systemat', 'went', 'unlik', 'holist', 'likert', 'crystal', 'yale', 'modifi', 'subclin', 'pair', 'volunt', 'plural', 'brazilian', 'borderlin', 'activ', 'perpetr', 'medit', 'repress', 'bedroom', 'diagnosi', 'increment']\n",
      "T9_lev2\n",
      "['satisfi', 'grip', 'corner', 'quick', 'lymphoma', 'nerv', 'predispo', 'ltda', 'editora', 'counsel', 'longterm', 'stoke', 'commenc', 'depth', 'wider', 'pedro', 'foetal', 'within', 'laparoscop', 'lewi', 'unusu', 'distinct', 'sost', 'harri', 'request', 'traver', 'encompass', 'virolog', 'test', 'irrespect', 'cranial', 'around', 'urinari', 'recov', 'coincid', 'mucosa', 'fifth', 'antiretrovir', 'reclassifi', 'referenc', 'curat', 'intol', 'pilot', 'neoplasia', 'pharmacotherapi', 'moreov', 'immobil', 'femor', 'medullari', 'squar']\n",
      "T10_lev2\n",
      "['utero', 'spatiotempor', 'colli', 'hectar', 'yangtz', 'drawn', 'tunisia', 'southwestern', 'although', 'check', 'juvenil', 'succeed', 'light', 'toxic', 'java', 'lesson', 'without', 'fibr', 'encroach', 'opportun', 'permit', 'abroad', 'attempt', 'think', 'crude', 'grade', 'leakag', 'wide', 'absenc', 'seismic', 'manur', 'referenc', 'archaeolog', 'extra', 'plausibl', 'logit', 'madrid', 'vast', 'unsaf', 'tabl', 'microhabitat', 'equilibrium', 'antimicrobi', 'therein', 'harsh', 'rose', 'inadequ', 'unsuit', 'flank', 'illicit']\n",
      "T11_lev2\n",
      "['penal', 'titl', 'noteworthi', 'simpli', 'pencil', 'uncoupl', 'effort', 'apart', 'predefin', 'routin', 'emphasi', 'lambda', 'hard', 'varieti', 'radial', 'especi', 'deduc', 'trajectori', 'complianc', 'integro', 'tomo', 'lexicograph', 'aosvr', 'inviscid', 'steinmetz', 'monomi', 'stencil', 'diffeomorph', 'belfast', 'alya', 'traceless', 'tmdl', 'chapman', 'petiga', 'isoc', 'cocycl', 'conclud', 'reveal', 'build', 'strive', 'queen', 'fluenc', 'inspir', 'photogrammetr', 'freedom', 'descent', 'straightforward', 'eulerian', 'sinc', 'similar']\n",
      "T12_lev2\n",
      "['third', 'explicit', 'slower', 'refin', 'email', 'mental', 'assumpt', 'multifacet', 'flash', 'sequenti', 'analog', 'coher', 'collat', 'disinhibit', 'lead', 'held', 'adaptor', 'tribal', 'theorist', 'shot', 'nonsignif', 'adduct', 'gentl', 'shave', 'whose', 'influenti', 'associ', 'affirm', 'extra', 'english', 'permit', 'height', 'shed', 'select', 'fake', 'multilingu', 'stop', 'wisdom', 'unclear', 'abov', 'refer', 'elucid', 'neither', 'hormon', 'russel', 'shape', 'intern', 'axillari', 'sincer', 'anova']\n",
      "T13_lev2\n",
      "['report', 'built', 'exhibit', 'connect', 'rest', 'viabl', 'criterion', 'digest', 'univari', 'bill', 'gmbh', 'asymmetri', 'payload', 'refer', 'wrong', 'arbitrarili', 'pack', 'supplementari', 'chameleon', 'central', 'runtim', 'paid', 'wire', 'permiss', 'subgroup', 'massiv', 'speed', 'merchant', 'detect', 'membership', 'basic', 'patent', 'seek', 'resembl', 'preval', 'spread', 'theori', 'straightforward', 'altern', '1926', 'latter', 'batch', 'fragment', 'peculiar', 'crosstalk', 'ultra', 'commit', 'harder', 'http', 'commut']\n",
      "T14_lev2\n",
      "['anom', 'charger', 'evacu', 'departur', 'simplifi', 'split', 'weak', 'pellet', 'hand', 'match', 'port', 'irrev', 'liter', 'miss', 'toroid', 'suggest', 'gateway', 'late', 'wherebi', 'park', 'invent', 'switzerland', 'unaffect', 'intertwin', 'recess', 'duct', 'empha', 'creativecommon', 'poison', 'readili', '7310', 'inward', 'otherwi', 'orient', 'prefer', 'meant', 'cermet', 'heav', 'occurr', 'shave', 'longer', 'sunlight', 'provi', 'speciat', 'stiffen', 'decoupl', 'tall', 'carlo', 'inabl', 'done']\n",
      "T15_lev2\n",
      "['australian', 'king', 'tend', 'influenc', 'twelv', 'compen', 'gearbox', 'free', 'colleagu', 'subsequ', 'room', 'massachusett', 'languag', 'hypoth', 'coast', 'wheel', 'much', 'ethnographi', 'obtain', 'drastic', 'tech', 'ever', '5082', 'plug', 'read', 'ball', 'modular', 'fellow', 'submit', 'push', 'georgia', 'accompani', 'younger', 'impart', 'listen', 'symbol', 'outsid', '2782', 'western', 'contrast', 'math', 'blue', 'greatest', 'necessit', 'auto', 'undergo', 'biograph', 'accid', '4664', 'commiss']\n",
      "T16_lev2\n",
      "['current', 'ioniz', 'exceed', 'divid', 'increa', 'regular', 'mismatch', 'proof', 'antimicrobi', 'condit', 'singapor', 'west', 'quick', 'detoxif', 'delimit', 'immedi', 'attenu', 'embryon', 'inocul', 'contemporari', 'suffici', 'line', '9135', 'catalogu', 'simultan', 'cytogenet', 'retain', 'trace', 'gather', 'unequivoc', 'peel', 'draft', 'later', 'substrat', 'homozygot', 'birth', 'http', 'modif', 'stripe', 'gata', 'eater', 'therebi', 'brazil', 'mechanist', 'transpo', 'iran', 'barrier', 'trim', 'alien', 'linnaeus']\n",
      "T17_lev2\n",
      "['manifest', 'preliminari', 'alway', 'sentenc', 'request', 'symmetri', 'recollect', 'attain', 'extrapol', 'inflat', 'suppress', 'facebook', 'total', 'stretch', 'momentari', 'underpin', 'debilit', 'expan', 'oneself', 'concret', 'conver', 'constraint', 'exclud', 'color', 'german', 'regular', 'consensu', 'stori', 'full', 'harder', 'powerless', 'affluent', 'warmer', 'recogn', 'yield', 'hundr', 'unattract', 'note', 'virtuous', 'relianc', 'elimin', 'letter', 'oppon', 'amelior', 'owner', 'contagi', 'pivot', 'bayesian', 'wherebi', 'virtual']\n",
      "T18_lev2\n",
      "['govern', 'zinc', 'unwant', 'accord', 'afflict', 'migratori', 'hematolog', 'sclerosi', 'label', 'rodent', 'intrana', 'under', 'antagon', 'reli', 'vasculatur', 'prognosi', 'shorter', 'vein', 'retent', 'ultrastructur', 'begin', 'mesent', 'ioniz', 'transduc', 'becam', 'lumin', 'lipolysi', 'length', 'unalt', 'immunoblot', 'would', 'huvec', 'fgcs', 'brdu', 'simvastatin', 'tslp', 'dpsc', 'trpm', 'gingipain', 'oculoplast', 'fifibroblast', 'abdsc', 'planarian', 'breve', 'importin', 'fimbria', 'alkalosi', 'lsds', 'tnbs', 'proapoptot']\n",
      "T19_lev2\n",
      "['said', 'verbatim', 'unsatisfactori', 'triall', 'succeed', 'ambiti', 'without', 'today', 'quick', 'merchant', 'enjoy', 'twenti', 'redund', 'technolog', 'perform', 'unexplor', 'invit', 'voluntari', 'complement', 'interdisciplinari', 'counter', 'script', 'warrant', 'analyt', 'spoke', 'former', 'netherland', 'much', 'economist', 'heterogen', 'difficulti', 'endeavour', 'toward', 'feedback', 'monoton', 'duti', 'elicit', 'necessarili', 'client', 'compliant', 'produc', 'question', 'revenu', 'frustrat', 'moreov', 'step', 'consist', 'correct', 'accomplish', 'builder']\n",
      "T20_lev2\n",
      "['pursuit', 'grade', 'actual', 'elus', 'pitfal', 'capac', 'simpl', 'surpri', 'major', 'tell', 'flourish', 'discrep', 'bolster', 'restrain', 'smooth', 'inabl', '8912', 'impoverish', 'multifacet', 'teen', 'evolutionari', 'engend', 'unsuccess', 'except', 'behind', 'exogen', 'manageri', 'elabor', 'vantag', 'debat', 'broaden', 'gradual', 'characteri', 'intercour', 'possess', 'pride', 'conceptuali', 'fail', 'tradeoff', 'basi', 'fifti', 'adjust', 'preserv', 'negat', 'earlier', 'masteri', 'neuroendocrin', 'seat', 'naturalist', 'revi']\n",
      "T21_lev2\n",
      "['restrict', 'exampl', 'extern', 'constitu', 'prefabr', 'utili', 'analysi', 'build', 'surpri', 'interf', 'know', 'tight', 'envelop', 'clean', 'seab', 'downward', 'frequent', 'comprehen', 'increment', 'favor', 'given', 'tetrahedr', 'stringent', 'absenc', 'empha', '6067', 'understand', 'exist', 'inflex', 'undertaken', 'devic', 'program', 'insert', 'intact', 'databa', 'gain', 'joint', 'consequ', 'reconstitut', 'phenomenon', 'areal', 'execut', 'bureau', 'escap', 'peripheri', 'highlight', 'breakag', 'hydrostat', 'municip', 'suscept']\n",
      "T22_lev2\n"
     ]
    },
    {
     "name": "stdout",
     "output_type": "stream",
     "text": [
      "['depend', 'descript', 'regain', 'fidel', 'weakest', 'membran', 'isol', 'contralat', 'accompani', 'manipul', 'consum', 'trauma', 'formic', 'radiographi', 'write', 'differenti', 'ballist', 'static', 'chondrocyt', 'bilay', 'dosag', 'thorac', 'moor', 'flaw', 'cation', 'least', 'receiv', 'augment', 'diffus', 'flexur', 'skeleton', 'sonograph', 'somewhat', 'dedic', 'granul', 'inert', 'locat', 'bench', 'amen', 'degrad', 'unlik', 'histolog', 'sever', 'justifi', 'trabecular', 'labor', 'entir', 'medium', 'zeta', 'plaqu']\n",
      "T23_lev2\n",
      "['detent', 'newli', 'almost', 'beamform', 'seek', 'succ', 'rfid', 'changeabl', 'inclus', 'move', 'promin', 'island', 'oscillatori', 'rever', 'drastic', 'proof', 'accomplish', 'mppt', 'bode', 'emitt', 'verilog', 'modular', 'submicron', 'cnns', 'within', 'lyapunov', 'still', 'shorten', 'despit', 'sampler', 'waveguid', 'multimod', 'clic', 'illustr', 'cutoff', 'origin', 'multilay', 'versus', 'polymet', 'lossless', 'shis', 'deterior', 'kalman', 'clear', 'drawback', 'etait', 'tackl', 'storey', 'rise', 'gradient']\n",
      "T24_lev2\n",
      "['close', 'campaign', 'characteri', 'prospect', 'optimum', 'durat', 'none', 'uncorrel', 'promin', 'narrow', 'autocorrel', 'consequ', 'second', 'coordin', 'version', 'third', 'mixtur', 'consum', 'stick', 'pertain', 'popular', 'shot', 'buoyant', 'pairwi', 'inten', 'routin', 'presenc', 'compil', 'occurr', 'principl', 'neglig', 'distribut', 'bodi', 'reserv', 'requir', 'compromi', 'cutoff', 'percent', 'inaccuraci', 'either', 'endolymph', 'csnn', 'reopen', 'venturi', 'usual', 'area', 'conveni', 'straightforward', 'balanc', 'probabilist']\n",
      "T25_lev2\n",
      "['legaci', 'emit', 'wait', 'success', 'princip', 'changeabl', 'inher', 'trend', 'artifici', 'downtim', 'interchang', 'still', 'mention', 'impo', 'depot', 'investig', 'favor', 'breakag', 'cheap', 'foundat', 'railway', 'crucial', 'upon', 'recogn', 'commiss', 'expedit', 'multilay', 'section', 'chain', 'unfea', 'compli', 'three', 'sort', 'promi', 'unifi', 'studi', 'known', 'subcompon', 'disadvantag', 'kaizen', 'figur', 'extrus', 'almost', 'intermedi', 'finish', 'formal', 'modem', 'graphic', 'scratch', 'drank']\n",
      "T26_lev2\n",
      "['experi', 'estradiol', 'tracer', 'caus', 'intracerebr', 'neurotox', 'histon', 'anesthesia', 'told', 'counterpart', 'spent', 'cyclic', 'onto', 'adra', 'brainstem', 'subset', 'unfair', 'threshold', 'address', 'disinhibit', '5579', 'feedback', 'cortisol', 'predictor', 'hidden', 'neuropath', 'minut', 'hydrochlorid', 'strike', 'simultan', 'prosodi', 'psychoact', 'counteract', 'lack', 'cage', 'lobular', 'disconnect', 'cent', 'inflex', 'scanner', 'confirm', 'sole', 'compel', 'asymmetr', 'glia', 'ration', 'gradual', 'breath', 'bradykinin', 'orexin']\n",
      "T27_lev2\n",
      "['thereof', 'https', 'extraordinari', 'hinder', 'sacrif', 'favor', 'immunoprecipit', 'page', 'cytolog', 'catalog', 'lifecycl', 'shape', 'clone', 'adeno', 'milieu', 'retino', 'afford', 'faith', 'characteri', 'fecal', 'oblig', 'tolerogen', 'chyma', 'scale', 'outlin', 'erythrocyt', 'spragu', 'inva', 'comprehen', 'intim', 'phosphata', 'termin', 'occupi', 'warsaw', 'give', 'union', 'less', 'accel', 'allevi', 'streamlin', 'lactobacillus', 'mutagenesi', 'hela', 'breakdown', 'creat', 'calv', 'showca', 'prolin', 'contracept', 'epstein']\n",
      "T28_lev2\n",
      "['termin', 'poor', 'barcelona', 'enrich', 'retinoid', 'broader', 'frozen', 'strong', 'formula', 'repetit', 'respond', 'aeruginosa', 'enhanc', 'consumpt', 'imbal', 'clinicopatholog', 'taiwan', 'fourth', 'hypercholesterolemia', 'histolog', 'reduct', 'bovin', 'occa', 'radon', 'type', 'intraperiton', 'subcutan', 'characterist', 'length', 'polyarticular', 'matur', 'phylum', 'expenditur', 'nest', 'sinc', 'serv', 'preeclampsia', 'quantil', 'noninva', 'particular', 'data', 'peak', 'stay', 'typic', 'repr', '8764', 'vapour', 'immunohistochemistri', 'intrigu', 'order']\n",
      "T29_lev2\n",
      "['cloth', 'reloc', 'near', 'overnight', 'exclud', 'ongo', 'coff', 'succeed', 'suffer', 'primari', 'search', 'chosen', 'street', 'alik', 'disconnect', 'reproduc', 'divert', 'naturalist', 'mode', 'frail', 'crucial', 'eccentr', 'hinder', 'biom', 'avoid', 'constrain', 'empha', 'click', 'leverag', 'slave', 'viewpoint', 'alert', 'seven', 'fuse', 'coin', '4294', 'impreci', 'articul', 'shed', 'personali', 'necessit', 'sedentari', 'notion', 'multipath', 'sopc', 'proprietari', 'unwant', 'consist', 'newer', 'omnidirect']\n",
      "T30_lev2\n",
      "['fall', 'never', 'disconnect', 'obscur', 'incept', 'primari', 'path', 'shape', 'interrel', 'deduc', 'reader', 'handl', 'inquiri', 'receiv', 'corrobor', 'blow', 'divi', 'ensu', 'mark', 'true', 'incr', 'push', 'dyer', '10009', 'book', 'philosophi', 'endeavour', 'analysi', 'upcom', 'confer', 'reali', 'accept', 'conjunct', 'respon', 'prioriti', 'tabl', 'journey', 'resurg', 'longest', 'adapt', 'strong', 'restrict', 'instanc', 'multitud', 'showca', 'adopt', 'necessit', 'judgeabl', 'mysteri', 'deep']\n",
      "T32_lev2\n",
      "['unlik', 'asynchron', 'practic', 'coerciv', 'epstein', 'aurora', 'pico', 'solidwork', 'usag', 'workspac', 'counterfeit', 'xmgfe', 'tire', 'smooth', 'contribut', 'discrep', 'launch', 'greater', 'resolv', 'fulfil', 'slip', 'relev', 'seek', 'groov', 'lift', 'shift', 'accel', 'satisfactorili', 'attain', 'strategi', 'truck', 'function', 'step', 'fourier', 'intensifi', 'onlin', 'novelti', 'feder', 'kept', 'fold', 'promin', 'connect', 'sometim', 'enlarg', 'simplif', 'refrig', 'prioriti', 'undertak', 'meanwhil', 'command']\n",
      "T33_lev2\n",
      "['span', 'snow', 'reli', 'adjust', 'vine', 'bathymetri', 'aquacultur', 'deterior', 'hyper', 'alloc', 'convent', 'databa', 'nevertheless', 'manur', 'residu', 'paraguay', 'minus', 'photograph', 'nile', 'eight', 'manual', 'centuri', 'uniform', 'java', 'subtl', 'overestim', 'entri', 'wetter', 'note', 'satisfactorili', 'spot', 'footprint', 'mainten', 'current', 'upward', 'expan', 'insignif', 'transit', 'shoal', 'compact', 'hurrican', 'waterlog', 'attempt', 'front', 'multicriteria', 'penetr', 'intend', 'holder', 'class', 'franc']\n",
      "T34_lev2\n",
      "['guid', 'likewi', 'nuclei', 'track', 'inconsist', 'appropri', 'recip', 'counter', 'sought', 'exogen', 'guard', 'malondialdehyd', 'center', 'genera', 'quick', 'newli', 'goal', 'intact', 'grave', 'prerequisit', 'unabl', 'inher', 'span', 'carbohydr', 'taller', 'appar', 'agronom', 'alli', 'outweigh', 'provok', 'herbicid', 'massiv', 'empha', 'shorter', 'alik', 'dealt', 'intra', 'workshop', 'enough', 'micronutri', 'alien', 'photochem', 'scrub', 'cholestasi', 'seem', 'monocultur', 'visibl', 'russian', 'nigra', 'collar']\n",
      "T35_lev2\n",
      "['intraocular', 'reach', 'relax', 'straightforward', 'around', 'incompat', 'chief', 'behalf', 'iran', 'fact', 'expedit', 'epiderm', 'paradox', 'hypoth', 'appli', 'protect', 'gave', 'controversi', 'lifetim', 'mandatori', 'took', 'asept', 'done', 'steadili', 'uniform', 'driver', 'small', 'postmenopaus', 'germlin', 'vulgari', 'larger', 'impart', 'adeno', 'past', 'reconsid', 'irish', 'inabl', 'mammalian', 'undesir', 'eleven', 'phenomenon', 'immunotherapeut', 'itali', 'potassium', 'mapk', 'antagonist', 'throat', 'began', 'specialti', 'dephosphoryl']\n",
      "T36_lev2\n",
      "['behind', 'choo', 'zero', 'woodland', 'humid', 'actual', 'golden', 'backbon', 'compli', 'begin', 'impact', 'option', 'cyprinid', 'pore', 'respond', 'start', 'close', 'regrowth', 'hold', 'flat', 'deduc', 'superior', 'ultra', 'dead', 'eleven', 'clog', 'common', 'literatur', 'lithium', 'beverag', 'eman', 'aurora', 'buildup', 'stratum', 'biogeochem', 'bioluminesc', 'disturb', 'grow', 'react', 'zeta', 'explain', 'meal', 'nylon', 'abandon', 'colon', 'keep', 'holist', 'februari', 'sichuan', 'facilit']\n",
      "T37_lev2\n",
      "['swallow', 'promin', 'hematocrit', 'favour', 'besid', 'guidelin', 'appropri', 'cushion', 'camera', 'seawat', 'topolog', 'dramat', 'blend', 'postul', 'descend', 'trend', 'exampl', '4424', 'idea', 'strongest', 'expo', 'meander', 'argon', 'adiabat', 'coaptat', 'plung', 'laryng', 'kick', 'spring', 'unaffect', 'trail', 'tendenc', 'current', 'otherwi', 'incorpor', 'trigger', 'interdepend', 'sheet', 'beyond', 'fine', 'motil', 'stratifi', 'fourier', 'laid', 'highlight', 'compressor', 'steep', 'irregular', 'electrostat', 'help']\n"
     ]
    }
   ],
   "source": [
    "# the list of topics with 20 top words\n",
    "df_topic_keywords = []\n",
    "\n",
    "\n",
    "# The weights of each keyword in each topic is contained in lda_model.components_ as a 2d array.\n",
    "\n",
    "def show_topics(n_words=20):\n",
    "\n",
    "    top_keyword_locs = []\n",
    "    for mycolumns in df.columns:\n",
    "        print(mycolumns)\n",
    "        # sorting curent column\n",
    "        dfsort = df.sort_values(by=[mycolumns], ascending=False).reset_index()\n",
    "        top_keyword_locs = []\n",
    "        for i in range(n_words):\n",
    "            mystr = dfsort['Words'][i] #+ ' - ' + str(dfsort['T1'][i])\n",
    "            top_keyword_locs.append(mystr)\n",
    "        # getting list of words\n",
    "        print(top_keyword_locs)\n",
    "        \n",
    "        # добавляем в текущий список в общий список\n",
    "        df_topic_keywords.append(top_keyword_locs)\n",
    "\n",
    "    return \n",
    "\n",
    "show_topics(n_words=50)        \n",
    "\n",
    "\n",
    "#topic_keywords = show_topics(n_words=20)        \n",
    "\n",
    "# Topic - Keywords Dataframe - создаем датафрейм распределения слов - тем.\n",
    "#df_topic_keywords = pd.DataFrame(topic_keywords)\n",
    "#df_topic_keywords.columns = ['Word '+str(i) for i in range(df_topic_keywords.shape[1])]\n",
    "#df_topic_keywords.index = ['Topic '+str(i) for i in range(df_topic_keywords.shape[0])]\n",
    "#sorted_words = df_topic_keywords.T\n",
    "\n"
   ]
  },
  {
   "cell_type": "code",
   "execution_count": null,
   "metadata": {},
   "outputs": [],
   "source": []
  }
 ],
 "metadata": {
  "kernelspec": {
   "display_name": "Python 3",
   "language": "python",
   "name": "python3"
  },
  "language_info": {
   "codemirror_mode": {
    "name": "ipython",
    "version": 3
   },
   "file_extension": ".py",
   "mimetype": "text/x-python",
   "name": "python",
   "nbconvert_exporter": "python",
   "pygments_lexer": "ipython3",
   "version": "3.8.3"
  }
 },
 "nbformat": 4,
 "nbformat_minor": 4
}
