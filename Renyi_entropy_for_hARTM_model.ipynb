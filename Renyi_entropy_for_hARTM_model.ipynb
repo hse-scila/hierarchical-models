{
 "cells": [
  {
   "cell_type": "code",
   "execution_count": 1,
   "metadata": {},
   "outputs": [],
   "source": [
    "from sklearn.feature_extraction.text import CountVectorizer\n",
    "import numpy as np\n",
    "import pandas as pd\n",
    "import artm"
   ]
  },
  {
   "cell_type": "code",
   "execution_count": 2,
   "metadata": {},
   "outputs": [],
   "source": [
    "#read the file containing a lemmatized dataset in csv format\n",
    "df_docs = pd.read_csv('Amazon.csv', header=None, names=['docs'])\n",
    "docs = df_docs['docs'].tolist()"
   ]
  },
  {
   "cell_type": "code",
   "execution_count": 3,
   "metadata": {},
   "outputs": [
    {
     "data": {
      "text/plain": [
       "28422"
      ]
     },
     "execution_count": 3,
     "metadata": {},
     "output_type": "execute_result"
    }
   ],
   "source": [
    "#calculate the number of unique words in the dataset\n",
    "tokens_unique = np.unique(np.concatenate(df_docs['docs'].str.split()))\n",
    "tokens_unique.size"
   ]
  },
  {
   "cell_type": "code",
   "execution_count": 4,
   "metadata": {},
   "outputs": [],
   "source": [
    "#specify the number of topics for each level\n",
    "level1_topics = [2,3,4,5,6,7,8,9,10,11,12,13,14,15, 16, 17, 18, 19, 20,21, 22,23,24, 25,26,27,28,29, 30,31,32,33,34,35,36,37,38,39, 40, 50, 60, 70, 80, 90, 100, 120, 140, 160, 180, 200]\n",
    "level2_topics = [1]"
   ]
  },
  {
   "cell_type": "code",
   "execution_count": 5,
   "metadata": {},
   "outputs": [],
   "source": [
    "# max_features should be equal to the number of unique words \n",
    "cv = CountVectorizer(max_features=tokens_unique.size, token_pattern=r'\\w+', stop_words=None)\n",
    "n_wd = np.array(cv.fit_transform(docs).todense()).T\n",
    "vocabulary = cv.get_feature_names()"
   ]
  },
  {
   "cell_type": "code",
   "execution_count": null,
   "metadata": {},
   "outputs": [],
   "source": [
    "#transform the data into a special format for hARTM model\n",
    "bv = artm.BatchVectorizer(\n",
    "    data_format='bow_n_wd',\n",
    "    n_wd=n_wd,\n",
    "    vocabulary=vocabulary\n",
    ")"
   ]
  },
  {
   "cell_type": "code",
   "execution_count": null,
   "metadata": {},
   "outputs": [
    {
     "name": "stderr",
     "output_type": "stream",
     "text": [
      "/home/vignatenko/.conda/envs/veraenv/lib/python3.7/site-packages/artm/hierarchy_utils.py:258: UserWarning: Adding level with num_topics = 1 less or equal than parent level's num_topics = 2\n",
      "  (num_topics, self._levels[-1].num_topics))\n"
     ]
    },
    {
     "name": "stdout",
     "output_type": "stream",
     "text": [
      "topics level_1:  2   WRD:  3618   SumP:  1.35148419102552   Renyi_1:  5.900651995498711\n"
     ]
    },
    {
     "name": "stderr",
     "output_type": "stream",
     "text": [
      "/home/vignatenko/.conda/envs/veraenv/lib/python3.7/site-packages/ipykernel_launcher.py:97: RuntimeWarning: divide by zero encountered in double_scalars\n",
      "/home/vignatenko/.conda/envs/veraenv/lib/python3.7/site-packages/artm/hierarchy_utils.py:258: UserWarning: Adding level with num_topics = 1 less or equal than parent level's num_topics = 3\n",
      "  (num_topics, self._levels[-1].num_topics))\n"
     ]
    },
    {
     "name": "stdout",
     "output_type": "stream",
     "text": [
      "topics level_1:  3   WRD:  4360   SumP:  1.744257866008411   Renyi_1:  4.731044367349021\n"
     ]
    },
    {
     "name": "stderr",
     "output_type": "stream",
     "text": [
      "/home/vignatenko/.conda/envs/veraenv/lib/python3.7/site-packages/ipykernel_launcher.py:97: RuntimeWarning: divide by zero encountered in double_scalars\n",
      "/home/vignatenko/.conda/envs/veraenv/lib/python3.7/site-packages/artm/hierarchy_utils.py:258: UserWarning: Adding level with num_topics = 1 less or equal than parent level's num_topics = 4\n",
      "  (num_topics, self._levels[-1].num_topics))\n"
     ]
    },
    {
     "name": "stdout",
     "output_type": "stream",
     "text": [
      "topics level_1:  4   WRD:  5038   SumP:  2.2110430415341398   Renyi_1:  4.352827986448832\n"
     ]
    },
    {
     "name": "stderr",
     "output_type": "stream",
     "text": [
      "/home/vignatenko/.conda/envs/veraenv/lib/python3.7/site-packages/ipykernel_launcher.py:97: RuntimeWarning: divide by zero encountered in double_scalars\n",
      "/home/vignatenko/.conda/envs/veraenv/lib/python3.7/site-packages/artm/hierarchy_utils.py:258: UserWarning: Adding level with num_topics = 1 less or equal than parent level's num_topics = 5\n",
      "  (num_topics, self._levels[-1].num_topics))\n"
     ]
    },
    {
     "name": "stdout",
     "output_type": "stream",
     "text": [
      "topics level_1:  5   WRD:  5633   SumP:  2.634619113363442   Renyi_1:  4.195079898799088\n"
     ]
    },
    {
     "name": "stderr",
     "output_type": "stream",
     "text": [
      "/home/vignatenko/.conda/envs/veraenv/lib/python3.7/site-packages/ipykernel_launcher.py:97: RuntimeWarning: divide by zero encountered in double_scalars\n",
      "/home/vignatenko/.conda/envs/veraenv/lib/python3.7/site-packages/artm/hierarchy_utils.py:258: UserWarning: Adding level with num_topics = 1 less or equal than parent level's num_topics = 6\n",
      "  (num_topics, self._levels[-1].num_topics))\n"
     ]
    },
    {
     "name": "stdout",
     "output_type": "stream",
     "text": [
      "topics level_1:  6   WRD:  6311   SumP:  3.1334264585711935   Renyi_1:  4.085838831845373\n"
     ]
    },
    {
     "name": "stderr",
     "output_type": "stream",
     "text": [
      "/home/vignatenko/.conda/envs/veraenv/lib/python3.7/site-packages/ipykernel_launcher.py:97: RuntimeWarning: divide by zero encountered in double_scalars\n",
      "/home/vignatenko/.conda/envs/veraenv/lib/python3.7/site-packages/artm/hierarchy_utils.py:258: UserWarning: Adding level with num_topics = 1 less or equal than parent level's num_topics = 7\n",
      "  (num_topics, self._levels[-1].num_topics))\n"
     ]
    },
    {
     "name": "stdout",
     "output_type": "stream",
     "text": [
      "topics level_1:  7   WRD:  6694   SumP:  3.6312661843185197   Renyi_1:  4.066519455687236\n"
     ]
    },
    {
     "name": "stderr",
     "output_type": "stream",
     "text": [
      "/home/vignatenko/.conda/envs/veraenv/lib/python3.7/site-packages/ipykernel_launcher.py:97: RuntimeWarning: divide by zero encountered in double_scalars\n",
      "/home/vignatenko/.conda/envs/veraenv/lib/python3.7/site-packages/artm/hierarchy_utils.py:258: UserWarning: Adding level with num_topics = 1 less or equal than parent level's num_topics = 8\n",
      "  (num_topics, self._levels[-1].num_topics))\n"
     ]
    },
    {
     "name": "stdout",
     "output_type": "stream",
     "text": [
      "topics level_1:  8   WRD:  6947   SumP:  4.010512194239709   Renyi_1:  4.085228869620065\n"
     ]
    },
    {
     "name": "stderr",
     "output_type": "stream",
     "text": [
      "/home/vignatenko/.conda/envs/veraenv/lib/python3.7/site-packages/ipykernel_launcher.py:97: RuntimeWarning: divide by zero encountered in double_scalars\n",
      "/home/vignatenko/.conda/envs/veraenv/lib/python3.7/site-packages/artm/hierarchy_utils.py:258: UserWarning: Adding level with num_topics = 1 less or equal than parent level's num_topics = 9\n",
      "  (num_topics, self._levels[-1].num_topics))\n"
     ]
    },
    {
     "name": "stdout",
     "output_type": "stream",
     "text": [
      "topics level_1:  9   WRD:  7489   SumP:  4.608083418912429   Renyi_1:  4.055958878563702\n"
     ]
    },
    {
     "name": "stderr",
     "output_type": "stream",
     "text": [
      "/home/vignatenko/.conda/envs/veraenv/lib/python3.7/site-packages/ipykernel_launcher.py:97: RuntimeWarning: divide by zero encountered in double_scalars\n",
      "/home/vignatenko/.conda/envs/veraenv/lib/python3.7/site-packages/artm/hierarchy_utils.py:258: UserWarning: Adding level with num_topics = 1 less or equal than parent level's num_topics = 10\n",
      "  (num_topics, self._levels[-1].num_topics))\n"
     ]
    },
    {
     "name": "stdout",
     "output_type": "stream",
     "text": [
      "topics level_1:  10   WRD:  7864   SumP:  5.085448152472964   Renyi_1:  4.061153569111719\n"
     ]
    },
    {
     "name": "stderr",
     "output_type": "stream",
     "text": [
      "/home/vignatenko/.conda/envs/veraenv/lib/python3.7/site-packages/ipykernel_launcher.py:97: RuntimeWarning: divide by zero encountered in double_scalars\n",
      "/home/vignatenko/.conda/envs/veraenv/lib/python3.7/site-packages/artm/hierarchy_utils.py:258: UserWarning: Adding level with num_topics = 1 less or equal than parent level's num_topics = 11\n",
      "  (num_topics, self._levels[-1].num_topics))\n"
     ]
    },
    {
     "name": "stdout",
     "output_type": "stream",
     "text": [
      "topics level_1:  11   WRD:  8368   SumP:  5.601589871403121   Renyi_1:  4.050154022389842\n"
     ]
    },
    {
     "name": "stderr",
     "output_type": "stream",
     "text": [
      "/home/vignatenko/.conda/envs/veraenv/lib/python3.7/site-packages/ipykernel_launcher.py:97: RuntimeWarning: divide by zero encountered in double_scalars\n",
      "/home/vignatenko/.conda/envs/veraenv/lib/python3.7/site-packages/artm/hierarchy_utils.py:258: UserWarning: Adding level with num_topics = 1 less or equal than parent level's num_topics = 12\n",
      "  (num_topics, self._levels[-1].num_topics))\n"
     ]
    },
    {
     "name": "stdout",
     "output_type": "stream",
     "text": [
      "topics level_1:  12   WRD:  8917   SumP:  6.4942832728193025   Renyi_1:  4.0311717318584135\n"
     ]
    },
    {
     "name": "stderr",
     "output_type": "stream",
     "text": [
      "/home/vignatenko/.conda/envs/veraenv/lib/python3.7/site-packages/ipykernel_launcher.py:97: RuntimeWarning: divide by zero encountered in double_scalars\n",
      "/home/vignatenko/.conda/envs/veraenv/lib/python3.7/site-packages/artm/hierarchy_utils.py:258: UserWarning: Adding level with num_topics = 1 less or equal than parent level's num_topics = 13\n",
      "  (num_topics, self._levels[-1].num_topics))\n"
     ]
    },
    {
     "name": "stdout",
     "output_type": "stream",
     "text": [
      "topics level_1:  13   WRD:  9149   SumP:  7.032974204477796   Renyi_1:  4.057830811488157\n"
     ]
    },
    {
     "name": "stderr",
     "output_type": "stream",
     "text": [
      "/home/vignatenko/.conda/envs/veraenv/lib/python3.7/site-packages/ipykernel_launcher.py:97: RuntimeWarning: divide by zero encountered in double_scalars\n",
      "/home/vignatenko/.conda/envs/veraenv/lib/python3.7/site-packages/artm/hierarchy_utils.py:258: UserWarning: Adding level with num_topics = 1 less or equal than parent level's num_topics = 14\n",
      "  (num_topics, self._levels[-1].num_topics))\n"
     ]
    },
    {
     "name": "stdout",
     "output_type": "stream",
     "text": [
      "topics level_1:  14   WRD:  9604   SumP:  7.642469829152105   Renyi_1:  4.057032303056627\n"
     ]
    },
    {
     "name": "stderr",
     "output_type": "stream",
     "text": [
      "/home/vignatenko/.conda/envs/veraenv/lib/python3.7/site-packages/ipykernel_launcher.py:97: RuntimeWarning: divide by zero encountered in double_scalars\n",
      "/home/vignatenko/.conda/envs/veraenv/lib/python3.7/site-packages/artm/hierarchy_utils.py:258: UserWarning: Adding level with num_topics = 1 less or equal than parent level's num_topics = 15\n",
      "  (num_topics, self._levels[-1].num_topics))\n"
     ]
    },
    {
     "name": "stdout",
     "output_type": "stream",
     "text": [
      "topics level_1:  15   WRD:  10076   SumP:  8.577479176212364   Renyi_1:  4.05244588573781\n"
     ]
    },
    {
     "name": "stderr",
     "output_type": "stream",
     "text": [
      "/home/vignatenko/.conda/envs/veraenv/lib/python3.7/site-packages/ipykernel_launcher.py:97: RuntimeWarning: divide by zero encountered in double_scalars\n",
      "/home/vignatenko/.conda/envs/veraenv/lib/python3.7/site-packages/artm/hierarchy_utils.py:258: UserWarning: Adding level with num_topics = 1 less or equal than parent level's num_topics = 16\n",
      "  (num_topics, self._levels[-1].num_topics))\n"
     ]
    },
    {
     "name": "stdout",
     "output_type": "stream",
     "text": [
      "topics level_1:  16   WRD:  10303   SumP:  9.548478180859092   Renyi_1:  4.074181172418492\n"
     ]
    },
    {
     "name": "stderr",
     "output_type": "stream",
     "text": [
      "/home/vignatenko/.conda/envs/veraenv/lib/python3.7/site-packages/ipykernel_launcher.py:97: RuntimeWarning: divide by zero encountered in double_scalars\n",
      "/home/vignatenko/.conda/envs/veraenv/lib/python3.7/site-packages/artm/hierarchy_utils.py:258: UserWarning: Adding level with num_topics = 1 less or equal than parent level's num_topics = 17\n",
      "  (num_topics, self._levels[-1].num_topics))\n"
     ]
    },
    {
     "name": "stdout",
     "output_type": "stream",
     "text": [
      "topics level_1:  17   WRD:  10762   SumP:  10.214542519468523   Renyi_1:  4.07392781299535\n"
     ]
    },
    {
     "name": "stderr",
     "output_type": "stream",
     "text": [
      "/home/vignatenko/.conda/envs/veraenv/lib/python3.7/site-packages/ipykernel_launcher.py:97: RuntimeWarning: divide by zero encountered in double_scalars\n",
      "/home/vignatenko/.conda/envs/veraenv/lib/python3.7/site-packages/artm/hierarchy_utils.py:258: UserWarning: Adding level with num_topics = 1 less or equal than parent level's num_topics = 18\n",
      "  (num_topics, self._levels[-1].num_topics))\n"
     ]
    },
    {
     "name": "stdout",
     "output_type": "stream",
     "text": [
      "topics level_1:  18   WRD:  11122   SumP:  10.322031753643387   Renyi_1:  4.086496471759471\n"
     ]
    },
    {
     "name": "stderr",
     "output_type": "stream",
     "text": [
      "/home/vignatenko/.conda/envs/veraenv/lib/python3.7/site-packages/ipykernel_launcher.py:97: RuntimeWarning: divide by zero encountered in double_scalars\n",
      "/home/vignatenko/.conda/envs/veraenv/lib/python3.7/site-packages/artm/hierarchy_utils.py:258: UserWarning: Adding level with num_topics = 1 less or equal than parent level's num_topics = 19\n",
      "  (num_topics, self._levels[-1].num_topics))\n"
     ]
    },
    {
     "name": "stdout",
     "output_type": "stream",
     "text": [
      "topics level_1:  19   WRD:  11448   SumP:  11.260295811185642   Renyi_1:  4.0969138194103225\n"
     ]
    },
    {
     "name": "stderr",
     "output_type": "stream",
     "text": [
      "/home/vignatenko/.conda/envs/veraenv/lib/python3.7/site-packages/ipykernel_launcher.py:97: RuntimeWarning: divide by zero encountered in double_scalars\n",
      "/home/vignatenko/.conda/envs/veraenv/lib/python3.7/site-packages/artm/hierarchy_utils.py:258: UserWarning: Adding level with num_topics = 1 less or equal than parent level's num_topics = 20\n",
      "  (num_topics, self._levels[-1].num_topics))\n"
     ]
    },
    {
     "name": "stdout",
     "output_type": "stream",
     "text": [
      "topics level_1:  20   WRD:  11820   SumP:  11.943413407752814   Renyi_1:  4.1040475646676935\n"
     ]
    },
    {
     "name": "stderr",
     "output_type": "stream",
     "text": [
      "/home/vignatenko/.conda/envs/veraenv/lib/python3.7/site-packages/ipykernel_launcher.py:97: RuntimeWarning: divide by zero encountered in double_scalars\n",
      "/home/vignatenko/.conda/envs/veraenv/lib/python3.7/site-packages/artm/hierarchy_utils.py:258: UserWarning: Adding level with num_topics = 1 less or equal than parent level's num_topics = 21\n",
      "  (num_topics, self._levels[-1].num_topics))\n"
     ]
    },
    {
     "name": "stdout",
     "output_type": "stream",
     "text": [
      "topics level_1:  21   WRD:  11980   SumP:  12.77248391971807   Renyi_1:  4.1286942249770675\n"
     ]
    },
    {
     "name": "stderr",
     "output_type": "stream",
     "text": [
      "/home/vignatenko/.conda/envs/veraenv/lib/python3.7/site-packages/ipykernel_launcher.py:97: RuntimeWarning: divide by zero encountered in double_scalars\n",
      "/home/vignatenko/.conda/envs/veraenv/lib/python3.7/site-packages/artm/hierarchy_utils.py:258: UserWarning: Adding level with num_topics = 1 less or equal than parent level's num_topics = 22\n",
      "  (num_topics, self._levels[-1].num_topics))\n"
     ]
    },
    {
     "name": "stdout",
     "output_type": "stream",
     "text": [
      "topics level_1:  22   WRD:  12233   SumP:  13.492385073834157   Renyi_1:  4.144650236188859\n"
     ]
    },
    {
     "name": "stderr",
     "output_type": "stream",
     "text": [
      "/home/vignatenko/.conda/envs/veraenv/lib/python3.7/site-packages/ipykernel_launcher.py:97: RuntimeWarning: divide by zero encountered in double_scalars\n",
      "/home/vignatenko/.conda/envs/veraenv/lib/python3.7/site-packages/artm/hierarchy_utils.py:258: UserWarning: Adding level with num_topics = 1 less or equal than parent level's num_topics = 23\n",
      "  (num_topics, self._levels[-1].num_topics))\n"
     ]
    },
    {
     "name": "stdout",
     "output_type": "stream",
     "text": [
      "topics level_1:  23   WRD:  12359   SumP:  14.167558365872537   Renyi_1:  4.1706369577250575\n"
     ]
    },
    {
     "name": "stderr",
     "output_type": "stream",
     "text": [
      "/home/vignatenko/.conda/envs/veraenv/lib/python3.7/site-packages/ipykernel_launcher.py:97: RuntimeWarning: divide by zero encountered in double_scalars\n",
      "/home/vignatenko/.conda/envs/veraenv/lib/python3.7/site-packages/artm/hierarchy_utils.py:258: UserWarning: Adding level with num_topics = 1 less or equal than parent level's num_topics = 24\n",
      "  (num_topics, self._levels[-1].num_topics))\n"
     ]
    },
    {
     "name": "stdout",
     "output_type": "stream",
     "text": [
      "topics level_1:  24   WRD:  12936   SumP:  15.169287617329246   Renyi_1:  4.157513625944788\n"
     ]
    },
    {
     "name": "stderr",
     "output_type": "stream",
     "text": [
      "/home/vignatenko/.conda/envs/veraenv/lib/python3.7/site-packages/ipykernel_launcher.py:97: RuntimeWarning: divide by zero encountered in double_scalars\n",
      "/home/vignatenko/.conda/envs/veraenv/lib/python3.7/site-packages/artm/hierarchy_utils.py:258: UserWarning: Adding level with num_topics = 1 less or equal than parent level's num_topics = 25\n",
      "  (num_topics, self._levels[-1].num_topics))\n"
     ]
    },
    {
     "name": "stdout",
     "output_type": "stream",
     "text": [
      "topics level_1:  25   WRD:  13269   SumP:  16.172510183223494   Renyi_1:  4.164579336357286\n"
     ]
    },
    {
     "name": "stderr",
     "output_type": "stream",
     "text": [
      "/home/vignatenko/.conda/envs/veraenv/lib/python3.7/site-packages/ipykernel_launcher.py:97: RuntimeWarning: divide by zero encountered in double_scalars\n",
      "/home/vignatenko/.conda/envs/veraenv/lib/python3.7/site-packages/artm/hierarchy_utils.py:258: UserWarning: Adding level with num_topics = 1 less or equal than parent level's num_topics = 26\n",
      "  (num_topics, self._levels[-1].num_topics))\n"
     ]
    },
    {
     "name": "stdout",
     "output_type": "stream",
     "text": [
      "topics level_1:  26   WRD:  13407   SumP:  16.763497488806024   Renyi_1:  4.187381514818865\n"
     ]
    },
    {
     "name": "stderr",
     "output_type": "stream",
     "text": [
      "/home/vignatenko/.conda/envs/veraenv/lib/python3.7/site-packages/ipykernel_launcher.py:97: RuntimeWarning: divide by zero encountered in double_scalars\n",
      "/home/vignatenko/.conda/envs/veraenv/lib/python3.7/site-packages/artm/hierarchy_utils.py:258: UserWarning: Adding level with num_topics = 1 less or equal than parent level's num_topics = 27\n",
      "  (num_topics, self._levels[-1].num_topics))\n"
     ]
    },
    {
     "name": "stdout",
     "output_type": "stream",
     "text": [
      "topics level_1:  27   WRD:  13566   SumP:  17.47201478345596   Renyi_1:  4.207346009416379\n"
     ]
    },
    {
     "name": "stderr",
     "output_type": "stream",
     "text": [
      "/home/vignatenko/.conda/envs/veraenv/lib/python3.7/site-packages/ipykernel_launcher.py:97: RuntimeWarning: divide by zero encountered in double_scalars\n",
      "/home/vignatenko/.conda/envs/veraenv/lib/python3.7/site-packages/artm/hierarchy_utils.py:258: UserWarning: Adding level with num_topics = 1 less or equal than parent level's num_topics = 28\n",
      "  (num_topics, self._levels[-1].num_topics))\n"
     ]
    },
    {
     "name": "stdout",
     "output_type": "stream",
     "text": [
      "topics level_1:  28   WRD:  13709   SumP:  18.46957543981989   Renyi_1:  4.227108414295394\n"
     ]
    },
    {
     "name": "stderr",
     "output_type": "stream",
     "text": [
      "/home/vignatenko/.conda/envs/veraenv/lib/python3.7/site-packages/ipykernel_launcher.py:97: RuntimeWarning: divide by zero encountered in double_scalars\n",
      "/home/vignatenko/.conda/envs/veraenv/lib/python3.7/site-packages/artm/hierarchy_utils.py:258: UserWarning: Adding level with num_topics = 1 less or equal than parent level's num_topics = 29\n",
      "  (num_topics, self._levels[-1].num_topics))\n"
     ]
    },
    {
     "name": "stdout",
     "output_type": "stream",
     "text": [
      "topics level_1:  29   WRD:  15555   SumP:  19.35017270528988   Renyi_1:  4.126279025796177\n"
     ]
    },
    {
     "name": "stderr",
     "output_type": "stream",
     "text": [
      "/home/vignatenko/.conda/envs/veraenv/lib/python3.7/site-packages/ipykernel_launcher.py:97: RuntimeWarning: divide by zero encountered in double_scalars\n",
      "/home/vignatenko/.conda/envs/veraenv/lib/python3.7/site-packages/artm/hierarchy_utils.py:258: UserWarning: Adding level with num_topics = 1 less or equal than parent level's num_topics = 30\n",
      "  (num_topics, self._levels[-1].num_topics))\n"
     ]
    },
    {
     "name": "stdout",
     "output_type": "stream",
     "text": [
      "topics level_1:  30   WRD:  15792   SumP:  20.433925298802933   Renyi_1:  4.139609209741737\n"
     ]
    },
    {
     "name": "stderr",
     "output_type": "stream",
     "text": [
      "/home/vignatenko/.conda/envs/veraenv/lib/python3.7/site-packages/ipykernel_launcher.py:97: RuntimeWarning: divide by zero encountered in double_scalars\n",
      "/home/vignatenko/.conda/envs/veraenv/lib/python3.7/site-packages/artm/hierarchy_utils.py:258: UserWarning: Adding level with num_topics = 1 less or equal than parent level's num_topics = 31\n",
      "  (num_topics, self._levels[-1].num_topics))\n"
     ]
    },
    {
     "name": "stdout",
     "output_type": "stream",
     "text": [
      "topics level_1:  31   WRD:  16122   SumP:  21.66428125112361   Renyi_1:  4.146239148814805\n"
     ]
    },
    {
     "name": "stderr",
     "output_type": "stream",
     "text": [
      "/home/vignatenko/.conda/envs/veraenv/lib/python3.7/site-packages/ipykernel_launcher.py:97: RuntimeWarning: divide by zero encountered in double_scalars\n",
      "/home/vignatenko/.conda/envs/veraenv/lib/python3.7/site-packages/artm/hierarchy_utils.py:258: UserWarning: Adding level with num_topics = 1 less or equal than parent level's num_topics = 32\n",
      "  (num_topics, self._levels[-1].num_topics))\n"
     ]
    },
    {
     "name": "stdout",
     "output_type": "stream",
     "text": [
      "topics level_1:  32   WRD:  16443   SumP:  22.93674812515019   Renyi_1:  4.153156611877342\n"
     ]
    },
    {
     "name": "stderr",
     "output_type": "stream",
     "text": [
      "/home/vignatenko/.conda/envs/veraenv/lib/python3.7/site-packages/ipykernel_launcher.py:97: RuntimeWarning: divide by zero encountered in double_scalars\n",
      "/home/vignatenko/.conda/envs/veraenv/lib/python3.7/site-packages/artm/hierarchy_utils.py:258: UserWarning: Adding level with num_topics = 1 less or equal than parent level's num_topics = 33\n",
      "  (num_topics, self._levels[-1].num_topics))\n"
     ]
    },
    {
     "name": "stdout",
     "output_type": "stream",
     "text": [
      "topics level_1:  33   WRD:  16537   SumP:  23.867812502106972   Renyi_1:  4.174348461048994\n"
     ]
    },
    {
     "name": "stderr",
     "output_type": "stream",
     "text": [
      "/home/vignatenko/.conda/envs/veraenv/lib/python3.7/site-packages/ipykernel_launcher.py:97: RuntimeWarning: divide by zero encountered in double_scalars\n",
      "/home/vignatenko/.conda/envs/veraenv/lib/python3.7/site-packages/artm/hierarchy_utils.py:258: UserWarning: Adding level with num_topics = 1 less or equal than parent level's num_topics = 34\n",
      "  (num_topics, self._levels[-1].num_topics))\n"
     ]
    },
    {
     "name": "stdout",
     "output_type": "stream",
     "text": [
      "topics level_1:  34   WRD:  16448   SumP:  24.532528949359403   Renyi_1:  4.206607535377444\n"
     ]
    },
    {
     "name": "stderr",
     "output_type": "stream",
     "text": [
      "/home/vignatenko/.conda/envs/veraenv/lib/python3.7/site-packages/ipykernel_launcher.py:97: RuntimeWarning: divide by zero encountered in double_scalars\n",
      "/home/vignatenko/.conda/envs/veraenv/lib/python3.7/site-packages/artm/hierarchy_utils.py:258: UserWarning: Adding level with num_topics = 1 less or equal than parent level's num_topics = 35\n",
      "  (num_topics, self._levels[-1].num_topics))\n"
     ]
    },
    {
     "name": "stdout",
     "output_type": "stream",
     "text": [
      "topics level_1:  35   WRD:  16891   SumP:  26.132336718837905   Renyi_1:  4.204162198847655\n"
     ]
    },
    {
     "name": "stderr",
     "output_type": "stream",
     "text": [
      "/home/vignatenko/.conda/envs/veraenv/lib/python3.7/site-packages/ipykernel_launcher.py:97: RuntimeWarning: divide by zero encountered in double_scalars\n",
      "/home/vignatenko/.conda/envs/veraenv/lib/python3.7/site-packages/artm/hierarchy_utils.py:258: UserWarning: Adding level with num_topics = 1 less or equal than parent level's num_topics = 36\n",
      "  (num_topics, self._levels[-1].num_topics))\n"
     ]
    },
    {
     "name": "stdout",
     "output_type": "stream",
     "text": [
      "topics level_1:  36   WRD:  17341   SumP:  27.394674871495226   Renyi_1:  4.201880575717546\n"
     ]
    },
    {
     "name": "stderr",
     "output_type": "stream",
     "text": [
      "/home/vignatenko/.conda/envs/veraenv/lib/python3.7/site-packages/ipykernel_launcher.py:97: RuntimeWarning: divide by zero encountered in double_scalars\n",
      "/home/vignatenko/.conda/envs/veraenv/lib/python3.7/site-packages/artm/hierarchy_utils.py:258: UserWarning: Adding level with num_topics = 1 less or equal than parent level's num_topics = 37\n",
      "  (num_topics, self._levels[-1].num_topics))\n"
     ]
    },
    {
     "name": "stdout",
     "output_type": "stream",
     "text": [
      "topics level_1:  37   WRD:  20389   SumP:  28.39455223636469   Renyi_1:  4.059933217280708\n"
     ]
    },
    {
     "name": "stderr",
     "output_type": "stream",
     "text": [
      "/home/vignatenko/.conda/envs/veraenv/lib/python3.7/site-packages/ipykernel_launcher.py:97: RuntimeWarning: divide by zero encountered in double_scalars\n",
      "/home/vignatenko/.conda/envs/veraenv/lib/python3.7/site-packages/artm/hierarchy_utils.py:258: UserWarning: Adding level with num_topics = 1 less or equal than parent level's num_topics = 38\n",
      "  (num_topics, self._levels[-1].num_topics))\n"
     ]
    },
    {
     "name": "stdout",
     "output_type": "stream",
     "text": [
      "topics level_1:  38   WRD:  19607   SumP:  29.65173880619477   Renyi_1:  4.123878990892022\n"
     ]
    },
    {
     "name": "stderr",
     "output_type": "stream",
     "text": [
      "/home/vignatenko/.conda/envs/veraenv/lib/python3.7/site-packages/ipykernel_launcher.py:97: RuntimeWarning: divide by zero encountered in double_scalars\n",
      "/home/vignatenko/.conda/envs/veraenv/lib/python3.7/site-packages/artm/hierarchy_utils.py:258: UserWarning: Adding level with num_topics = 1 less or equal than parent level's num_topics = 39\n",
      "  (num_topics, self._levels[-1].num_topics))\n"
     ]
    },
    {
     "name": "stdout",
     "output_type": "stream",
     "text": [
      "topics level_1:  39   WRD:  20539   SumP:  30.091677989075833   Renyi_1:  4.100145421797469\n"
     ]
    },
    {
     "name": "stderr",
     "output_type": "stream",
     "text": [
      "/home/vignatenko/.conda/envs/veraenv/lib/python3.7/site-packages/ipykernel_launcher.py:97: RuntimeWarning: divide by zero encountered in double_scalars\n",
      "/home/vignatenko/.conda/envs/veraenv/lib/python3.7/site-packages/artm/hierarchy_utils.py:258: UserWarning: Adding level with num_topics = 1 less or equal than parent level's num_topics = 40\n",
      "  (num_topics, self._levels[-1].num_topics))\n"
     ]
    },
    {
     "name": "stdout",
     "output_type": "stream",
     "text": [
      "topics level_1:  40   WRD:  21664   SumP:  31.649296847415826   Renyi_1:  4.067907645107111\n"
     ]
    },
    {
     "name": "stderr",
     "output_type": "stream",
     "text": [
      "/home/vignatenko/.conda/envs/veraenv/lib/python3.7/site-packages/ipykernel_launcher.py:97: RuntimeWarning: divide by zero encountered in double_scalars\n",
      "/home/vignatenko/.conda/envs/veraenv/lib/python3.7/site-packages/artm/hierarchy_utils.py:258: UserWarning: Adding level with num_topics = 1 less or equal than parent level's num_topics = 50\n",
      "  (num_topics, self._levels[-1].num_topics))\n"
     ]
    },
    {
     "name": "stdout",
     "output_type": "stream",
     "text": [
      "topics level_1:  50   WRD:  25669   SumP:  41.42744972645596   Renyi_1:  4.099621287725217\n"
     ]
    },
    {
     "name": "stderr",
     "output_type": "stream",
     "text": [
      "/home/vignatenko/.conda/envs/veraenv/lib/python3.7/site-packages/ipykernel_launcher.py:97: RuntimeWarning: divide by zero encountered in double_scalars\n",
      "/home/vignatenko/.conda/envs/veraenv/lib/python3.7/site-packages/artm/hierarchy_utils.py:258: UserWarning: Adding level with num_topics = 1 less or equal than parent level's num_topics = 60\n",
      "  (num_topics, self._levels[-1].num_topics))\n"
     ]
    },
    {
     "name": "stdout",
     "output_type": "stream",
     "text": [
      "topics level_1:  60   WRD:  27754   SumP:  51.89253280412231   Renyi_1:  4.190351584198367\n"
     ]
    },
    {
     "name": "stderr",
     "output_type": "stream",
     "text": [
      "/home/vignatenko/.conda/envs/veraenv/lib/python3.7/site-packages/ipykernel_launcher.py:97: RuntimeWarning: divide by zero encountered in double_scalars\n",
      "/home/vignatenko/.conda/envs/veraenv/lib/python3.7/site-packages/artm/hierarchy_utils.py:258: UserWarning: Adding level with num_topics = 1 less or equal than parent level's num_topics = 70\n",
      "  (num_topics, self._levels[-1].num_topics))\n"
     ]
    },
    {
     "name": "stdout",
     "output_type": "stream",
     "text": [
      "topics level_1:  70   WRD:  28140   SumP:  62.73485329145842   Renyi_1:  4.3217359854794815\n"
     ]
    },
    {
     "name": "stderr",
     "output_type": "stream",
     "text": [
      "/home/vignatenko/.conda/envs/veraenv/lib/python3.7/site-packages/ipykernel_launcher.py:97: RuntimeWarning: divide by zero encountered in double_scalars\n",
      "/home/vignatenko/.conda/envs/veraenv/lib/python3.7/site-packages/artm/hierarchy_utils.py:258: UserWarning: Adding level with num_topics = 1 less or equal than parent level's num_topics = 80\n",
      "  (num_topics, self._levels[-1].num_topics))\n"
     ]
    },
    {
     "name": "stdout",
     "output_type": "stream",
     "text": [
      "topics level_1:  80   WRD:  28332   SumP:  72.58170292036812   Renyi_1:  4.441903248052693\n"
     ]
    },
    {
     "name": "stderr",
     "output_type": "stream",
     "text": [
      "/home/vignatenko/.conda/envs/veraenv/lib/python3.7/site-packages/ipykernel_launcher.py:97: RuntimeWarning: divide by zero encountered in double_scalars\n",
      "/home/vignatenko/.conda/envs/veraenv/lib/python3.7/site-packages/artm/hierarchy_utils.py:258: UserWarning: Adding level with num_topics = 1 less or equal than parent level's num_topics = 90\n",
      "  (num_topics, self._levels[-1].num_topics))\n"
     ]
    }
   ],
   "source": [
    "import time\n",
    "start = time.time()\n",
    "myfile = 'hARTM_Renyi_Amazon.csv'\n",
    "\n",
    "with open(myfile, 'a') as file: \n",
    "    file.write('Num topics (lev 1)' + ';' +  'WRD (lev 1)' + ';' + 'prob_sum (lev 1)bv' + ';' + \n",
    "               'Renyi(lev 1)' +';' + 'Num topics (lev 2)' + ';' +'WRD (lev 2)' + ';' + 'prob_sum (lev 2)' + ';' + \n",
    "             'Renyi(lev 2)' +';' + '\\n')\n",
    "    \n",
    "\n",
    "for ilevel1 in level1_topics:\n",
    "    for ilevel2 in level2_topics:\n",
    "        levels = []\n",
    "        #run hARTM model\n",
    "        model = artm.hARTM(num_processors=5, cache_theta=True, dictionary=bv.dictionary, seed = 36, scores = PerplexityScore)\n",
    "        \n",
    "        level = model.add_level(num_topics=ilevel1, parent_level_weight=1)\n",
    "        levels.append(level)\n",
    "        \n",
    "        level = model.add_level(num_topics=ilevel2, parent_level_weight=1)\n",
    "        levels.append(level)\n",
    "        \n",
    "        # num_collection_passes is the number of iterations over the whole given collection\n",
    "        model.fit_offline(bv, num_collection_passes=200)\n",
    "        \n",
    "        #calculate Renyi entropy on the first level\n",
    "        myprob1 = pd.DataFrame(model.get_level(0).get_phi())\n",
    "        num_word, num_col = myprob1.shape\n",
    "        \n",
    "        thresh = 1/num_word\n",
    "         \n",
    "        #---------------------------------------------------------------------------------------------------------------\n",
    "        #select the maximum probability for each word\n",
    "        mymax = myprob1.max(axis=1)\n",
    "        #mymax contains the list of maximum probabilities \n",
    "        #select the probabilities larger than thresh\n",
    "        mywrd = mymax[mymax>thresh]\n",
    "        #calculate the number of such values\n",
    "        word_ratio1 = len(mywrd)\n",
    "        #calculate the sum of those probabilities\n",
    "        sum_prob1 = sum(mywrd)\n",
    "        #---------------------------------------------------------------------------------------------------------------\n",
    "        #Shannon entropy\n",
    "        Sh1  = np.log(word_ratio1/(num_word*ilevel1))\n",
    "        #Internal energy\n",
    "        En1 = -np.log(sum_prob1/ilevel1)\n",
    "        #Free energy\n",
    "        Fen1 = En1 - Sh1*ilevel1\n",
    "        if ilevel1==1: \n",
    "            Renyi1 = Fen1/(ilevel1)\n",
    "        else: Renyi1 = Fen1/(ilevel1-1)\n",
    "                     \n",
    "        #calculate Renyi entropy on the second level       \n",
    "        myprob2 = pd.DataFrame(model.get_level(1).get_phi())\n",
    "        \n",
    "        num_word, num_col = myprob2.shape\n",
    "        \n",
    "        \n",
    "        #------------------------------------------------------------------------------------------------------------\n",
    "        #select the maximum probability for each word\n",
    "        mymax2 = myprob2.max(axis=1)\n",
    "        # mymax contains the list of maximum probabilities \n",
    "        #select the probabilities larger than thresh\n",
    "        mywrd2 = mymax2[mymax2>thresh]\n",
    "        # calculate the number of such values\n",
    "        word_ratio2 = len(mywrd2)\n",
    "        #calculate the sum of those probabilities\n",
    "        sum_prob2 = sum(mywrd2)\n",
    "        #---------------------------------------------------------------------------------------------------------------        \n",
    "        \n",
    "       \n",
    "        #Shannon entropy \n",
    "        Sh2  = np.log(word_ratio2/(num_word*ilevel2))\n",
    "        #Internal energy\n",
    "        En2 = -np.log(sum_prob2/ilevel2)\n",
    "        #Free energy\n",
    "        Fen2 = En2 - Sh2*ilevel2\n",
    "        #Renyi entropy\n",
    "        Renyi2 = Fen2/(ilevel2-1)    \n",
    "        \n",
    "            \n",
    "        with open(myfile, 'a') as file: \n",
    "                    file.write(str(ilevel1) + ';' + str(word_ratio1) + ';' + str(sum_prob1) + ';'    \n",
    "                                     + str(Renyi1) +';' + str(ilevel2) + ';' \n",
    "                                     + str(word_ratio1) + ';' + str(sum_prob1) + ';'\n",
    "                                 + str(Renyi2) + ';' + '\\n')\n",
    "                            \n",
    "                                                                                                                       \n",
    "\n",
    "        \n",
    "stop = time.time()\n",
    "print('time of execution (sec)', stop - start)\n",
    "print('---------------------------')\n",
    "\n",
    "        "
   ]
  }
 ],
 "metadata": {
  "kernelspec": {
   "display_name": "Python 3",
   "language": "python",
   "name": "python3"
  },
  "language_info": {
   "codemirror_mode": {
    "name": "ipython",
    "version": 3
   },
   "file_extension": ".py",
   "mimetype": "text/x-python",
   "name": "python",
   "nbconvert_exporter": "python",
   "pygments_lexer": "ipython3",
   "version": "3.7.1"
  }
 },
 "nbformat": 4,
 "nbformat_minor": 4
}
